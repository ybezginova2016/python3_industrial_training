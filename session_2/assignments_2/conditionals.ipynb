{
 "cells": [
  {
   "attachments": {},
   "cell_type": "markdown",
   "metadata": {},
   "source": [
    "1. Write a program that prompts the user for a string and checks whether the string is a palindrome (i.e., the string reads the same forward and backward)."
   ]
  },
  {
   "cell_type": "code",
   "execution_count": 1,
   "outputs": [],
   "source": [
    "string_ex = 'mama'"
   ],
   "metadata": {
    "collapsed": false
   }
  },
  {
   "cell_type": "code",
   "execution_count": 3,
   "outputs": [
    {
     "data": {
      "text/plain": "'amam'"
     },
     "execution_count": 3,
     "metadata": {},
     "output_type": "execute_result"
    }
   ],
   "source": [
    "string_ex[::-1]"
   ],
   "metadata": {
    "collapsed": false
   }
  },
  {
   "cell_type": "code",
   "execution_count": 5,
   "metadata": {},
   "outputs": [
    {
     "name": "stdout",
     "output_type": "stream",
     "text": [
      "The string is not a palindrome\n"
     ]
    }
   ],
   "source": [
    "string = input(\"Enter a string: \")\n",
    "\n",
    "# Reverse the string\n",
    "reverse_string = string[::-1]\n",
    "\n",
    "# Check if the string is a palindrome\n",
    "if string == reverse_string:\n",
    "    print(\"The string is a palindrome\")\n",
    "else:\n",
    "    print(\"The string is not a palindrome\")"
   ]
  },
  {
   "cell_type": "code",
   "execution_count": 6,
   "outputs": [
    {
     "name": "stdout",
     "output_type": "stream",
     "text": [
      "The string is not a palindrome\n"
     ]
    }
   ],
   "source": [
    "try:\n",
    "    string = input(\"Enter a string: \")\n",
    "    # Convert input to lowercase and remove any spaces\n",
    "    string = string.lower().replace(\" \", \"\")\n",
    "    # Reverse the string\n",
    "    reverse_string = string[::-1]\n",
    "    # Check if the string is a palindrome\n",
    "    if string == reverse_string:\n",
    "        print(\"The string is a palindrome\")\n",
    "    else:\n",
    "        print(\"The string is not a palindrome\")\n",
    "except:\n",
    "    print(\"Invalid input! Please enter a string.\")"
   ],
   "metadata": {
    "collapsed": false
   }
  },
  {
   "attachments": {},
   "cell_type": "markdown",
   "metadata": {},
   "source": [
    "2. Write a program that takes in a list of integers and returns the sum of all even numbers in the list."
   ]
  },
  {
   "cell_type": "code",
   "execution_count": 34,
   "metadata": {},
   "outputs": [
    {
     "name": "stdout",
     "output_type": "stream",
     "text": [
      "The sum of all even numbers in the list:  6\n"
     ]
    }
   ],
   "source": [
    "# longer + shorter version\n",
    "list_numbers = input(\"Enter a row of numbers like 1, 2, 3, etc.: \")\n",
    "try:\n",
    "    # Convert input to a list of integers\n",
    "    numbers = list(map(int, list_numbers.split(\",\")))\n",
    "except:\n",
    "    print(\"Invalid input! Please enter a list of numbers in the format 1, 2, 3, etc.\")\n",
    "else:\n",
    "    even_numbers = [num for num in numbers if num % 2 == 0]\n",
    "    # even_numbers = []\n",
    "    # for i in numbers:\n",
    "    #     if i % 2 == 0:\n",
    "    #         even_numbers.append(i)\n",
    "\n",
    "    even_sum = 0\n",
    "    for sum in even_numbers:\n",
    "        even_sum += sum\n",
    "\n",
    "    print('The sum of all even numbers in the list: ', even_sum)"
   ]
  },
  {
   "attachments": {},
   "cell_type": "markdown",
   "metadata": {},
   "source": [
    "3. Write a program that prompts the user for their age and checks whether they are old enough to vote (i.e., 18 years old or older)."
   ]
  },
  {
   "cell_type": "code",
   "execution_count": 36,
   "metadata": {},
   "outputs": [
    {
     "name": "stdout",
     "output_type": "stream",
     "text": [
      "You are not old enough to vote.\n"
     ]
    }
   ],
   "source": [
    "try:\n",
    "    age = int(input(\"Enter your age: \"))\n",
    "    if age >= 18:\n",
    "        print(\"You are old enough to vote.\")\n",
    "    else:\n",
    "        print(\"You are not old enough to vote.\")\n",
    "except ValueError:\n",
    "    print(\"Please enter a valid integer for your age.\")"
   ]
  },
  {
   "attachments": {},
   "cell_type": "markdown",
   "metadata": {},
   "source": [
    "4. Write a program that takes in a list of integers and returns the largest number in the list that is also divisible by 3."
   ]
  },
  {
   "cell_type": "code",
   "execution_count": 44,
   "metadata": {},
   "outputs": [
    {
     "name": "stdout",
     "output_type": "stream",
     "text": [
      "The largest number in the list that is divisible by 3 is 6.\n"
     ]
    }
   ],
   "source": [
    "lst = input(\"Enter a row of numbers like 1, 2, 3, etc.: \")\n",
    "try:\n",
    "    # Convert input to a list of integers\n",
    "    numbers = list(map(int, lst.split(\", \")))\n",
    "    # numbers = list(map(int, lst.split(\",\")))\n",
    "except ValueError:\n",
    "    print(\"Invalid input! Please enter a valid integer.\")\n",
    "else:\n",
    "    max_num = 0\n",
    "    for num in numbers:\n",
    "        if num % 3 == 0 and num > max_num:\n",
    "            max_num = num\n",
    "    if max_num == 0:\n",
    "        print('There are no numbers divisible by 3')\n",
    "    else:\n",
    "        print(f\"The largest number in the list that is divisible by 3 is {max_num}.\")"
   ]
  },
  {
   "attachments": {},
   "cell_type": "markdown",
   "metadata": {},
   "source": [
    "5. Write a program that prompts the user for a number and checks whether the number is a prime number (i.e., only divisible by 1 and itself)."
   ]
  },
  {
   "cell_type": "code",
   "execution_count": 46,
   "metadata": {},
   "outputs": [
    {
     "name": "stdout",
     "output_type": "stream",
     "text": [
      "7 is a prime number.\n"
     ]
    }
   ],
   "source": [
    "num = int(input('Enter a number: '))\n",
    "\n",
    "if num < 2:\n",
    "    print(f'{num} is not a prime number')\n",
    "else:\n",
    "    is_prime = True\n",
    "    for i in range(2, int(num/2) + 1):\n",
    "        if num % i == 0:\n",
    "            is_prime = False\n",
    "            break\n",
    "    if is_prime:\n",
    "        print(f'{num} is a prime number.')\n",
    "    else:\n",
    "        print(f'{num} is not a prime number.')"
   ]
  }
 ],
 "metadata": {
  "kernelspec": {
   "display_name": "Python 3",
   "language": "python",
   "name": "python3"
  },
  "language_info": {
   "name": "python",
   "version": "3.10.10"
  },
  "orig_nbformat": 4,
  "vscode": {
   "interpreter": {
    "hash": "f7a5be651532581cb44625d52e18aa1d390cab54bc6b51099d8c30bea9b68219"
   }
  }
 },
 "nbformat": 4,
 "nbformat_minor": 2
}
