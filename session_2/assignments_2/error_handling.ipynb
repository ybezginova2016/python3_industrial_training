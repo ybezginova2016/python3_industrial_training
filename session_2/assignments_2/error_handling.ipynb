{
 "cells": [
  {
   "attachments": {},
   "cell_type": "markdown",
   "metadata": {},
   "source": [
    "1. Write a function that takes a list of integers as an argument, and returns the sum of the integers. Use a try-except block to catch any ValueError exceptions that may be raised when attempting to convert a string to an integer."
   ]
  },
  {
   "cell_type": "code",
   "execution_count": 7,
   "metadata": {},
   "outputs": [],
   "source": [
    "def sum_integers(numbers):\n",
    "    sum = 0\n",
    "    for num in numbers:\n",
    "        try:\n",
    "            sum += int(num)\n",
    "        except ValueError:\n",
    "            print(f'Skipping non-integer value: {num}')\n",
    "    return sum"
   ]
  },
  {
   "cell_type": "code",
   "execution_count": 8,
   "outputs": [
    {
     "name": "stdout",
     "output_type": "stream",
     "text": [
      "616\n"
     ]
    }
   ],
   "source": [
    "numbers = [6, 567, 43]\n",
    "print(sum_integers(numbers))"
   ],
   "metadata": {
    "collapsed": false
   }
  },
  {
   "attachments": {},
   "cell_type": "markdown",
   "metadata": {},
   "source": [
    "2. Write a function that takes a filename as an argument, and attempts to open the file. Use a try-except block to catch any FileNotFoundError exceptions that may be raised when attempting to open the file. If the file is successfully opened, the function should return the contents of the file."
   ]
  },
  {
   "cell_type": "code",
   "execution_count": 13,
   "metadata": {},
   "outputs": [],
   "source": [
    "def read_file(filename, encoding=\"utf-8\"):\n",
    "    try:\n",
    "        with open(filename, 'r', encoding=encoding) as file:\n",
    "            contents = file.read()\n",
    "\n",
    "        return contents\n",
    "    except FileNotFoundError:\n",
    "        print(f'Error: file {filename} not found.')\n",
    "        return None"
   ]
  },
  {
   "cell_type": "code",
   "execution_count": 14,
   "outputs": [
    {
     "name": "stdout",
     "output_type": "stream",
     "text": [
      "Contents of file C:\\Users\\HOME\\Desktop\\in_use.txt:\n",
      "Наши планы на первый модуль:\n",
      "Спринт 1. Актуализация модели данных \n",
      "16 января - 29 января\n",
      "\n",
      "Спринт 2. DWH: пересмотр модели данных\n",
      "30 января - 19 февраля\n",
      "\n",
      "Спринт 3. ETL: автоматизация подготовки данных \n",
      "20 февраля - 12 марта\n",
      "\n",
      "Спринт 4. DataOps: проверка качества данных\n",
      "13 марта - 19 марта\n",
      "\n",
      "По окончанию модуля нас ждут каникулы с 20 по 26 марта \n",
      "\n",
      "\n",
      "\"C:\\Users\\HOME\\data_engineering\"\n",
      "\n",
      "https://github.com/ybezginova2016/de-project-sprint-1.git\n",
      "\n",
      "docker run -d --rm -p 15432:5432 -p 3000:3000 --name=de-project-sprint-1-server-local sindb/project-sprint-1:latest\n",
      "\n",
      "\n",
      "ZAF202311_NLP_Email Classifier\n",
      "ZAF202302_CV_CigaretteEndDetection\n",
      "ZAF202302_NLP_InterviewTranscription\n",
      "ZAF202306_CV_PictureDescriber\n",
      "ZAF031_CV_RedEyeDetection\n",
      "ZAF059_NLP_ResumeScreening\n",
      "ZAF202304_NLP_ResumeSearchEngine\n",
      "ZAF202309_CV_TVRemoteControlsButtonIdentification\n",
      "\n",
      "***********************************************************\n",
      "Python 3.9\n",
      "https://www.python.org/ftp/python/3.9.13/python-3.9.13-amd64.exe\n",
      "\n",
      "***********************************************************\n",
      "pip3 install torch torchvision torchaudio\n",
      "\n",
      "\n",
      "*****************************************************\n",
      "C:\\Users\\HOME\\PycharmProjects\n",
      "\n",
      "***********************************************************\n",
      "Windows 11 Pro\n",
      "4DNGD-QMQ3P-P7FM2-6XT6Q-BG9TT\n",
      "\n",
      "************************************************************\n",
      "PostgreSQL\n",
      "В контейнере запущена база данных PostgreSQL:\n",
      "\n",
      "логин: jovyan\n",
      "пароль: jovyan\n",
      "порт: 5432\n",
      "хост: изнутри контейнера localhost\n",
      "база данных: de\n",
      "\n",
      "ОТКРЫТЬ ПАПКУ С УРОКАМИ\n",
      "docker run -d -v C:\\Users\\HOME\\de_lessons\\sprint-0:/lessons -p 3000:3000 -p 15432:5432 --name=de-sprint-0-server-local sindb/sprint-0-freetrack:latest\n",
      "\n",
      "docker run -d -v C:\\Users\\HOME\\de_lessons\\sprint-1:/lessons -p 3030:3000 -p 25432:5432 --name=de-sprint-1-server-local sindb/sprint-1:latest\n",
      "\n",
      "docker run -d -v C:\\Users\\HOME\\de_lessons\\sprint-2:/lessons -p 3040:3000 -p 35432:5432 --name=de-sprint-2-server-local sindb/sprint-2:latest\n",
      "\n",
      "http://localhost:3030/cloudbeaver/\n",
      "\n",
      "\n",
      "ОТКРЫТЬ МОЮ ПАПКУ ПРОЕКТА 1 \"C:\\Users\\HOME\\de_projects\\de-project-sprint-1\"\n",
      "ОТКРЫТЬ МОЮ ПАПКУ ПРОЕКТА 2 \"C:\\Users\\HOME\\de_projects\\de-project-sprint-2\"\n",
      "\n",
      "docker run -d -v C:\\Users\\HOME\\de_projects\\de-project-sprint-1:/lessons -p 45432:5432 -p 3050:3000 --name=de-project-sprint-1-server-local sindb/project-sprint-1:latest\n",
      "\n",
      "docker run -d -v C:\\Users\\HOME\\de_projects\\de-project-sprint-2:/lessons -p 55432:5432 -p 3060:3000 --name=de-project-sprint-2-server-local sindb/project-sprint-1:latest\n",
      "\n",
      "************************************************************\n",
      "\n",
      "Мы сообщили вам, что обновили образ.\n",
      "  Нужно будет удалить существующий контейнер и запустить новый. Для этого:\n",
      "Узнайте ID или имя контейнера, введя в командной строке команду docker ps --all.\n",
      "Удалите старый контейнер с помощью команды docker rm <name>.\n",
      "Запустите новый контейнер с помощью команды docker run. Для первого спринта, напомним, она выглядит так:\n",
      "\n",
      "docker run -d --rm -p 3000:3000 -p 15432:5432 --name=de-sprint-1-server-local sindb/sprint-1:latest\n",
      "\n",
      "docker run -d --rm -p 15432:5432 -p 3000:3000 --name=de-project-sprint-1-server-local sindb/project-sprint-1:latest\n",
      "\n",
      "***************************************************************\n",
      "Правильный ответ\n",
      "нет\n",
      "Поле client_id есть во всех таблицах, но таблицы user_activity_log и user_payment_log не связаны напрямую.\n",
      "\n",
      "\"C:\\Users\\HOME\\Zummit_2023\"\n",
      "\n",
      "\n",
      "https://github.com/ybezginova2016/2023_ZAF003_FaceMaskDetection.git\n",
      "\"C:\\Users\\HOME\\Zummit_2023\\2023_ZAF003_FaceMaskDetection\"\n",
      "\n",
      "git config --global user.name \"Yulia Bezginova\"\n",
      "\n",
      "git config --global user.email ybezginova2021@gmail.com\n",
      " \n",
      "\n"
     ]
    }
   ],
   "source": [
    "file = \"C:\\\\Users\\\\HOME\\\\Desktop\\\\in_use.txt\"\n",
    "\n",
    "content = read_file(file, encoding='utf-8')\n",
    "\n",
    "if content is not None:\n",
    "    print(f'Contents of file {file}:')\n",
    "    print(content)"
   ],
   "metadata": {
    "collapsed": false
   }
  },
  {
   "attachments": {},
   "cell_type": "markdown",
   "metadata": {},
   "source": [
    "3. Write a function that takes a list of strings as an argument, and returns a new list containing only the strings that can be successfully converted to a float. Use a try-except block to catch any ValueError exceptions that may be raised when attempting to convert a string to a float."
   ]
  },
  {
   "cell_type": "code",
   "execution_count": 15,
   "metadata": {},
   "outputs": [],
   "source": [
    "def convert_to_float(strings):\n",
    "    floats = []\n",
    "    for string in strings:\n",
    "        try:\n",
    "            float_value = float(string)\n",
    "            floats.append(float_value)\n",
    "        except ValueError:\n",
    "            print(f'Skipping non-float value: {string}')\n",
    "    return floats"
   ]
  },
  {
   "cell_type": "markdown",
   "source": [
    "This function initializes an empty list floats to store the float values that can be successfully converted from the input strings. It then loops through each string in the input list and attempts to convert it to a float using the float() function. If this conversion succeeds, the resulting float value is added to the floats list. If the conversion fails and raises a ValueError exception, the function catches the exception using a try-except block and prints a message indicating that it is skipping a non-float value.\n",
    "\n",
    "After the loop has finished, the function returns the floats list containing only the values that were successfully converted to float."
   ],
   "metadata": {
    "collapsed": false
   }
  },
  {
   "cell_type": "code",
   "execution_count": 16,
   "outputs": [
    {
     "name": "stdout",
     "output_type": "stream",
     "text": [
      "Skipping non-float value: tea\n",
      "[6.0, 20.0]\n"
     ]
    }
   ],
   "source": [
    "strings = [6, 'tea', '20']\n",
    "\n",
    "if strings is not None:\n",
    "    print(convert_to_float(strings))"
   ],
   "metadata": {
    "collapsed": false
   }
  },
  {
   "attachments": {},
   "cell_type": "markdown",
   "metadata": {},
   "source": [
    "4. Write a function that takes a list of dictionaries as an argument, and returns the value of a specified key from each dictionary. Use a try-except block to catch any KeyError exceptions that may be raised when attempting to access a key that does not exist in a dictionary."
   ]
  },
  {
   "cell_type": "code",
   "execution_count": 19,
   "metadata": {},
   "outputs": [],
   "source": [
    "def get_values(dictionaries, key):\n",
    "    values = []\n",
    "    for dictionary in dictionaries:\n",
    "        try:\n",
    "            value = dictionary[key]\n",
    "            values.append(value)\n",
    "        except KeyError:\n",
    "            print(f\"Skipping dictionary: key {key} not found.\")\n",
    "    return values"
   ]
  },
  {
   "cell_type": "code",
   "execution_count": 20,
   "outputs": [
    {
     "name": "stdout",
     "output_type": "stream",
     "text": [
      "Skipping dictionary: key age not found.\n",
      "Values of key 'age': [25, 30, 35]\n"
     ]
    }
   ],
   "source": [
    "dictionaries = [\n",
    "    {\"name\": \"Alice\", \"age\": 25, \"location\": \"New York\"},\n",
    "    {\"name\": \"Bob\", \"age\": 30, \"location\": \"London\"},\n",
    "    {\"name\": \"Charlie\", \"age\": 35},\n",
    "    {\"name\": \"David\", \"location\": \"Paris\"}\n",
    "]\n",
    "values = get_values(dictionaries, \"age\")\n",
    "print(f\"Values of key 'age': {values}\")"
   ],
   "metadata": {
    "collapsed": false
   }
  },
  {
   "attachments": {},
   "cell_type": "markdown",
   "metadata": {},
   "source": [
    "5. Write a function that takes a list of integers as an argument, and returns the largest integer in the list. Use a try-except block to catch any ValueError exceptions that may be raised when attempting to compare elements that are not integers."
   ]
  },
  {
   "cell_type": "code",
   "execution_count": 29,
   "metadata": {},
   "outputs": [],
   "source": [
    "def find_largest_integer(numbers):\n",
    "    largest = None\n",
    "    for num in numbers:\n",
    "        try:\n",
    "            num = int(num)\n",
    "            if largest is None or num > largest:\n",
    "                largest = num\n",
    "        except ValueError:\n",
    "            print(f\"Skipping non-integer value: {num}\")\n",
    "    return largest"
   ]
  },
  {
   "cell_type": "markdown",
   "source": [
    "This function initializes a variable largest to None, which will hold the largest integer found in the input list. It then loops through each integer in the input list and attempts to compare it to the current largest integer, using the > operator. If the integer is greater than the current largest integer (or if there is no current largest integer), the integer becomes the new largest integer.\n",
    "\n",
    "If any non-integer value is encountered in the input list and a ValueError exception is raised, the function catches the exception using a try-except block and prints a message indicating that it is skipping the non-integer value.\n",
    "\n",
    "After the loop has finished, the function returns the largest variable, which contains the largest integer found in the input list."
   ],
   "metadata": {
    "collapsed": false
   }
  },
  {
   "cell_type": "code",
   "execution_count": 30,
   "outputs": [
    {
     "name": "stdout",
     "output_type": "stream",
     "text": [
      "Skipping non-integer value: hello\n",
      "Largest integer in list: 9\n"
     ]
    }
   ],
   "source": [
    "numbers = [4, 7, 2, 9, \"hello\", 5]\n",
    "largest = find_largest_integer(numbers)\n",
    "print(f\"Largest integer in list: {largest}\")"
   ],
   "metadata": {
    "collapsed": false
   }
  }
 ],
 "metadata": {
  "kernelspec": {
   "display_name": "Python 3",
   "language": "python",
   "name": "python3"
  },
  "language_info": {
   "name": "python",
   "version": "3.10.9"
  },
  "orig_nbformat": 4,
  "vscode": {
   "interpreter": {
    "hash": "f7a5be651532581cb44625d52e18aa1d390cab54bc6b51099d8c30bea9b68219"
   }
  }
 },
 "nbformat": 4,
 "nbformat_minor": 2
}
