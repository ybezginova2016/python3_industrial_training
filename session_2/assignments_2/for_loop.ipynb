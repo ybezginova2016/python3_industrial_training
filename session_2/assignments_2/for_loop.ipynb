{
 "cells": [
  {
   "attachments": {},
   "cell_type": "markdown",
   "metadata": {},
   "source": [
    "1. Create a for loop that iterates through a list of strings and prints each string in uppercase."
   ]
  },
  {
   "cell_type": "code",
   "execution_count": 1,
   "metadata": {},
   "outputs": [
    {
     "name": "stdout",
     "output_type": "stream",
     "text": [
      "I\n",
      "LIKE\n",
      "PYTHON\n"
     ]
    }
   ],
   "source": [
    "lst_strings = ['i', 'like', 'python']\n",
    "\n",
    "for str in lst_strings:\n",
    "    print(str.upper())"
   ]
  },
  {
   "attachments": {},
   "cell_type": "markdown",
   "metadata": {},
   "source": [
    "2. Create a for loop that iterates through a list of numbers and prints the square of each number."
   ]
  },
  {
   "cell_type": "code",
   "execution_count": 2,
   "metadata": {},
   "outputs": [
    {
     "name": "stdout",
     "output_type": "stream",
     "text": [
      "9\n",
      "36\n",
      "49\n",
      "64\n",
      "81\n"
     ]
    }
   ],
   "source": [
    "num_list = [3, 6, 7, 8, 9]\n",
    "try:\n",
    "    for i in num_list:\n",
    "        print(i ** 2)\n",
    "except:\n",
    "    print('An exception occured')"
   ]
  },
  {
   "attachments": {},
   "cell_type": "markdown",
   "metadata": {},
   "source": [
    "3. Create a for loop that iterates through a list of dictionaries and prints the value of a specified key for each dictionary."
   ]
  },
  {
   "cell_type": "code",
   "execution_count": 3,
   "metadata": {},
   "outputs": [],
   "source": [
    "lst_dict = [\n",
    "    {'university': 'KubSTU', 'city': 'Krasnodar', 'year': 2012},\n",
    "    {'university' : 'SPbSTU', 'city': 'Saint Petersburg',\n",
    "      'year' : 2014},\n",
    "]\n",
    "\n"
   ]
  },
  {
   "attachments": {},
   "cell_type": "markdown",
   "metadata": {},
   "source": [
    "4. Create a for loop that iterates through a list of numbers and prints the largest number in the list."
   ]
  },
  {
   "cell_type": "code",
   "execution_count": 5,
   "metadata": {},
   "outputs": [
    {
     "name": "stdout",
     "output_type": "stream",
     "text": [
      "The largest number in the list is: 50\n"
     ]
    }
   ],
   "source": [
    "my_list = [10, 20, 30, 40, 50]\n",
    "\n",
    "max_num = 0\n",
    "# max_num = my_list[0]\n",
    "\n",
    "for num in my_list:\n",
    "    if num > max_num:\n",
    "        max_num = num\n",
    "\n",
    "print(\"The largest number in the list is:\", max_num)"
   ]
  },
  {
   "attachments": {},
   "cell_type": "markdown",
   "metadata": {},
   "source": [
    "5. Create a for loop that iterates through a list of lists and prints the sum of the elements in each sub-list."
   ]
  },
  {
   "cell_type": "code",
   "execution_count": 6,
   "metadata": {},
   "outputs": [
    {
     "name": "stdout",
     "output_type": "stream",
     "text": [
      "1\n",
      "345\n",
      "5\n"
     ]
    }
   ],
   "source": [
    "lst_major = [\n",
    "    [1, 3, 456],\n",
    "    [2, 54, 345, 2],\n",
    "    [0, 11032, 5]\n",
    "]\n",
    "\n",
    "# access the first sub-list in the list and print its first element\n",
    "print(lst_major[0][0])  # output: 1\n",
    "\n",
    "# access the second sub-list in the list and print its third element\n",
    "print(lst_major[1][2])  # output: 345\n",
    "\n",
    "# access the third sub-list in the list and print its last element\n",
    "print(lst_major[2][-1])  # output: 5"
   ]
  },
  {
   "cell_type": "code",
   "execution_count": 7,
   "outputs": [
    {
     "name": "stdout",
     "output_type": "stream",
     "text": [
      "The sum of the elements in the sublist [1, 2, 3] is 6\n",
      "The sum of the elements in the sublist [4, 5, 6] is 15\n",
      "The sum of the elements in the sublist [7, 8, 9] is 24\n"
     ]
    }
   ],
   "source": [
    "my_list = [\n",
    "    [1, 2, 3],\n",
    "    [4, 5, 6],\n",
    "    [7, 8, 9]\n",
    "]\n",
    "\n",
    "for sublist in my_list:\n",
    "    sublist_sum = sum(sublist)\n",
    "    print(\"The sum of the elements in the sublist\", sublist, \"is\", sublist_sum)"
   ],
   "metadata": {
    "collapsed": false
   }
  }
 ],
 "metadata": {
  "language_info": {
   "name": "python"
  },
  "orig_nbformat": 4
 },
 "nbformat": 4,
 "nbformat_minor": 2
}
