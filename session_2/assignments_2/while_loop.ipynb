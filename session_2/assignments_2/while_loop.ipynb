{
 "cells": [
  {
   "attachments": {},
   "cell_type": "markdown",
   "metadata": {},
   "source": [
    "1. Create a while loop that repeatedly takes user input and adds the input to a list until the user enters \"done\"."
   ]
  },
  {
   "cell_type": "code",
   "execution_count": 3,
   "metadata": {
    "vscode": {
     "languageId": "plaintext"
    }
   },
   "outputs": [
    {
     "name": "stdout",
     "output_type": "stream",
     "text": [
      "List of user input: ['dfgfd', 'Done']\n"
     ]
    }
   ],
   "source": [
    "# Create an empty list to store user input\n",
    "user_input = []\n",
    "\n",
    "# Create a while loop that runs until the user enters \"done\"\n",
    "while True:\n",
    "    # Take user input and add it to the list\n",
    "    value = input(\"Enter a value (or 'done' to finish): \")\n",
    "    if value == \"done\":\n",
    "        break\n",
    "    user_input.append(value)\n",
    "\n",
    "# Print the list of user input\n",
    "print(\"List of user input:\", user_input)"
   ]
  },
  {
   "attachments": {},
   "cell_type": "markdown",
   "metadata": {},
   "source": [
    "2. Create a while loop that generates random numbers and adds them to a list until the sum of all numbers in the list is greater than 100."
   ]
  },
  {
   "cell_type": "code",
   "execution_count": 4,
   "metadata": {
    "vscode": {
     "languageId": "plaintext"
    }
   },
   "outputs": [
    {
     "name": "stdout",
     "output_type": "stream",
     "text": [
      "List of random numbers: [5, 5, 6, 3, 6, 5, 9, 10, 9, 10, 3, 9, 9, 6, 9]\n"
     ]
    }
   ],
   "source": [
    "import random\n",
    "\n",
    "# Create an empty list to store random numbers\n",
    "random_numbers = []\n",
    "\n",
    "# Keep generating random numbers and adding them to the list until the sum is greater than 100\n",
    "while sum(random_numbers) <= 100:\n",
    "    # Generate a random number between 1 and 10 and add it to the list\n",
    "    rand_num = random.randint(1, 10)\n",
    "    random_numbers.append(rand_num)\n",
    "\n",
    "# Print the final list of random numbers\n",
    "print(\"List of random numbers:\", random_numbers)"
   ]
  },
  {
   "attachments": {},
   "cell_type": "markdown",
   "metadata": {},
   "source": [
    "3. Create a while loop that repeatedly takes user input and appends it to a list, but only if the input is a unique string."
   ]
  },
  {
   "cell_type": "code",
   "execution_count": 5,
   "metadata": {
    "vscode": {
     "languageId": "plaintext"
    }
   },
   "outputs": [
    {
     "name": "stdout",
     "output_type": "stream",
     "text": [
      "String added to the list.\n",
      "String added to the list.\n",
      "String added to the list.\n",
      "String added to the list.\n",
      "String added to the list.\n",
      "List of unique strings: ['sftgbtr', 'ghb d', 'ertwer', 'sdgf', 'done']\n"
     ]
    }
   ],
   "source": [
    "# Create an empty list to store unique strings\n",
    "unique_strings = []\n",
    "\n",
    "# Keep taking user input and appending it to the list if it is a unique string\n",
    "while True:\n",
    "    # Prompt the user to enter a string\n",
    "    user_input = input(\"Enter a string: \")\n",
    "\n",
    "    # Check if the string is already in the list\n",
    "    if user_input in unique_strings:\n",
    "        print(\"String already exists in the list. Please enter a unique string.\")\n",
    "    else:\n",
    "        # Add the string to the list and print a message\n",
    "        unique_strings.append(user_input)\n",
    "        print(\"String added to the list.\")\n",
    "\n",
    "    # Check if the list contains at least 5 unique strings\n",
    "    if len(unique_strings) >= 5:\n",
    "        break\n",
    "\n",
    "# Print the final list of unique strings\n",
    "print(\"List of unique strings:\", unique_strings)"
   ]
  },
  {
   "attachments": {},
   "cell_type": "markdown",
   "metadata": {},
   "source": [
    "4. Create a while loop that repeatedly takes user input and appends it to a list, but only if the input is a number greater than 10."
   ]
  },
  {
   "cell_type": "code",
   "execution_count": 1,
   "metadata": {
    "vscode": {
     "languageId": "plaintext"
    }
   },
   "outputs": [
    {
     "name": "stdout",
     "output_type": "stream",
     "text": [
      "Number must be greater than 10.\n",
      "Number must be greater than 10.\n",
      "Number must be greater than 10.\n",
      "Number must be greater than 10.\n",
      "Number must be greater than 10.\n",
      "Number must be greater than 10.\n",
      "Number added to the list.\n",
      "Number must be greater than 10.\n",
      "Number added to the list.\n",
      "Number added to the list.\n",
      "Number added to the list.\n",
      "Number added to the list.\n",
      "List of numbers greater than 10:  46564.0\n"
     ]
    }
   ],
   "source": [
    "lst = []\n",
    "\n",
    "while True:\n",
    "\n",
    "    num = input('Please enter the number: ')\n",
    "\n",
    "    try:\n",
    "        num = float(num)\n",
    "    except ValueError:\n",
    "        print('Invalid input. Please enter the number!')\n",
    "        continue\n",
    "\n",
    "    if num <= 10:\n",
    "        print('Number must be greater than 10.')\n",
    "    else:\n",
    "        lst.append(num)\n",
    "        print('Number added to the list.')\n",
    "\n",
    "    if len(lst) == 5:\n",
    "        break\n",
    "\n",
    "print('List of numbers greater than 10: ', num)"
   ]
  },
  {
   "attachments": {},
   "cell_type": "markdown",
   "metadata": {},
   "source": [
    "5. Create a while loop that repeatedly takes user input and keeps track of the highest number entered until the user enters \"done\"."
   ]
  },
  {
   "cell_type": "code",
   "execution_count": 2,
   "metadata": {
    "vscode": {
     "languageId": "plaintext"
    }
   },
   "outputs": [
    {
     "name": "stdout",
     "output_type": "stream",
     "text": [
      "Invalid input. Please enter a number!\n",
      "The highest number entered was: 457473.0\n"
     ]
    }
   ],
   "source": [
    "highest = None\n",
    "\n",
    "while True:\n",
    "    num = input('Please enter a number (or \"done\" to finish): ')\n",
    "\n",
    "    if num == 'done':\n",
    "        break\n",
    "\n",
    "    try:\n",
    "        num = float(num)\n",
    "    except ValueError:\n",
    "        print('Invalid input. Please enter a number!')\n",
    "        continue\n",
    "\n",
    "    if highest is None or num > highest:\n",
    "        highest = num\n",
    "\n",
    "print('The highest number entered was:', highest)"
   ]
  }
 ],
 "metadata": {
  "language_info": {
   "name": "python"
  },
  "orig_nbformat": 4
 },
 "nbformat": 4,
 "nbformat_minor": 2
}
