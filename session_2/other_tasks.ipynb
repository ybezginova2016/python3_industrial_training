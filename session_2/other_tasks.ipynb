{
 "cells": [
  {
   "cell_type": "markdown",
   "source": [
    "### Упражнение 32. Сумма цифр в числе\n",
    "Разработайте программу, запрашивающую у пользователя целое четы-\n",
    "рехзначное число и подсчитывающую сумму составляющих его цифр. На-\n",
    "пример, если пользователь введет число 3141, программа должна вывести\n",
    "следующий результат: 3 + 1 + 4 + 1 = 9."
   ],
   "metadata": {
    "collapsed": false
   }
  },
  {
   "cell_type": "code",
   "execution_count": 5,
   "outputs": [
    {
     "name": "stdout",
     "output_type": "stream",
     "text": [
      "The sum of the digits in the number is: 28\n"
     ]
    }
   ],
   "source": [
    "num = input('Enter the 4-digit number: ')\n",
    "\n",
    "while len(num) != 4 or not num.isdigit(): # проверяем, ввели ли число или что-то еще\n",
    "    # print('Please enter a valid 4-digit number')\n",
    "    num = input('Enter a 4-digit number: ')\n",
    "\n",
    "summa = int(num[0]) + int(num[1]) + int(num[2]) + int(num[3])\n",
    "print('The sum of the digits in the number is:', summa)\n"
   ],
   "metadata": {
    "collapsed": false
   }
  },
  {
   "cell_type": "code",
   "execution_count": null,
   "outputs": [],
   "source": [],
   "metadata": {
    "collapsed": false
   }
  }
 ],
 "metadata": {
  "kernelspec": {
   "display_name": "Python 3",
   "language": "python",
   "name": "python3"
  },
  "language_info": {
   "codemirror_mode": {
    "name": "ipython",
    "version": 2
   },
   "file_extension": ".py",
   "mimetype": "text/x-python",
   "name": "python",
   "nbconvert_exporter": "python",
   "pygments_lexer": "ipython2",
   "version": "2.7.6"
  }
 },
 "nbformat": 4,
 "nbformat_minor": 0
}
