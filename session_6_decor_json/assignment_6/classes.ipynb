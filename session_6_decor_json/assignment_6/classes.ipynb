{
 "cells": [
  {
   "attachments": {},
   "cell_type": "markdown",
   "metadata": {},
   "source": [
    "### 1. Create a class called Rectangle that has attributes width and height. Add methods area and perimeter that calculate the area and perimeter of the rectangle, respectively."
   ]
  },
  {
   "cell_type": "code",
   "execution_count": 1,
   "metadata": {},
   "outputs": [],
   "source": [
    "class Rectangle:\n",
    "    \"\"\"\n",
    "    The area method calculates the area of the rectangle by multiplying the width and height attributes together. The perimeter method calculates the perimeter by adding the width and height together twice (since there are two sides of each length in a rectangle)\n",
    "    \"\"\"\n",
    "    def __init__(self, width, height):\n",
    "        self.width = width\n",
    "        self.height = height\n",
    "\n",
    "    def area(self):\n",
    "        return self.width * self.height\n",
    "\n",
    "    def perimeter(self):\n",
    "        return 2 * (self.width + self.height)"
   ]
  },
  {
   "cell_type": "code",
   "execution_count": 2,
   "outputs": [
    {
     "name": "stdout",
     "output_type": "stream",
     "text": [
      "20\n",
      "18\n"
     ]
    }
   ],
   "source": [
    "rect = Rectangle(4, 5)\n",
    "print(rect.area())       # Output: 20\n",
    "print(rect.perimeter())  # Output: 18"
   ],
   "metadata": {
    "collapsed": false
   }
  },
  {
   "attachments": {},
   "cell_type": "markdown",
   "metadata": {},
   "source": [
    "### 2. Create a class called Circle that has attribute radius. Add methods area and circumference that calculate the area and circumference of the circle, respectively."
   ]
  },
  {
   "cell_type": "code",
   "execution_count": 6,
   "outputs": [],
   "source": [
    "import math"
   ],
   "metadata": {
    "collapsed": false
   }
  },
  {
   "cell_type": "code",
   "execution_count": 7,
   "metadata": {},
   "outputs": [],
   "source": [
    "class Circle:\n",
    "    \"\"\"\n",
    "    The area method calculates the area of the circle by using the formula pi * radius^2, where pi is the mathematical constant pi and radius is the attribute value. The circumference method calculates the circumference by using the formula 2 * pi * radius.\n",
    "\n",
    "    \"\"\"\n",
    "    def __init__(self, radius):\n",
    "        self.radius = radius\n",
    "\n",
    "    def area(self):\n",
    "        return math.pi * (self.radius ** 2)\n",
    "\n",
    "    def circumference(self):\n",
    "        return 2 * math.pi * self.radius\n"
   ]
  },
  {
   "cell_type": "code",
   "execution_count": 8,
   "outputs": [
    {
     "name": "stdout",
     "output_type": "stream",
     "text": [
      "28.274333882308138\n",
      "18.84955592153876\n"
     ]
    }
   ],
   "source": [
    "circ = Circle(3)\n",
    "print(circ.area())          # Output: 28.274333882308138\n",
    "print(circ.circumference())  # Output: 18.84955592153876"
   ],
   "metadata": {
    "collapsed": false
   }
  },
  {
   "attachments": {},
   "cell_type": "markdown",
   "metadata": {},
   "source": [
    "### 3. Create a class called Car that has attributes make, model, and year. Add methods start and stop that simulate starting and stopping the car, respectively."
   ]
  },
  {
   "cell_type": "code",
   "execution_count": 9,
   "metadata": {},
   "outputs": [],
   "source": [
    "class Car:\n",
    "    def __init__(self, make, model, year):\n",
    "        self.make = make\n",
    "        self.model = model\n",
    "        self.year = year\n",
    "        self.is_running = False\n",
    "\n",
    "    def start(self):\n",
    "        if not self.is_running:\n",
    "            self.is_running = True\n",
    "            print(f\"The {self.year} {self.make} {self.model} has started.\")\n",
    "        else:\n",
    "            print(\"The car is already running.\")\n",
    "\n",
    "    def stop(self):\n",
    "        if self.is_running:\n",
    "            self.is_running = False\n",
    "            print(f\"The {self.year} {self.make} {self.model} has stopped.\")\n",
    "        else:\n",
    "            print(\"The car is already stopped.\")"
   ]
  },
  {
   "cell_type": "code",
   "execution_count": 11,
   "outputs": [
    {
     "name": "stdout",
     "output_type": "stream",
     "text": [
      "The 1990 Lada Opel has started.\n",
      "The 1990 Lada Opel has stopped.\n",
      "The 1990 Lada Opel has started.\n",
      "The car is already running.\n",
      "The 1990 Lada Opel has stopped.\n",
      "The car is already stopped.\n"
     ]
    }
   ],
   "source": [
    "my_car = Car(\"Lada\", \"Opel\", 1990)\n",
    "my_car.start()    # Output: The 1990 Lada Opel has started.\n",
    "my_car.stop()     # Output: The 1990 Lada Opel has stopped.\n",
    "my_car.start()    # Output: The 1990 Lada Opel has started.\n",
    "my_car.start()    # Output: The car is already running.\n",
    "my_car.stop()     # Output: The 1990 Lada Opel has stopped.\n",
    "my_car.stop()     # Output: The car is already stopped."
   ],
   "metadata": {
    "collapsed": false
   }
  },
  {
   "attachments": {},
   "cell_type": "markdown",
   "metadata": {},
   "source": [
    "### 4. Create a class called Dice that has attribute sides (the number of sides on the dice). Add a method roll that generates a random number between 1 and the number of sides on the dice."
   ]
  },
  {
   "cell_type": "code",
   "execution_count": 13,
   "outputs": [],
   "source": [
    "import random"
   ],
   "metadata": {
    "collapsed": false
   }
  },
  {
   "cell_type": "code",
   "execution_count": 14,
   "metadata": {},
   "outputs": [],
   "source": [
    "class Dice:\n",
    "    def __init__(self, sides):\n",
    "        self.sides = sides\n",
    "\n",
    "    def roll(self):\n",
    "        return random.randint(1, self.sides)"
   ]
  },
  {
   "cell_type": "code",
   "execution_count": 17,
   "outputs": [
    {
     "name": "stdout",
     "output_type": "stream",
     "text": [
      "1\n"
     ]
    }
   ],
   "source": [
    "my_dice = Dice(6)\n",
    "print(my_dice.roll())   # Output: a random integer between 1 and 6, inclusive"
   ],
   "metadata": {
    "collapsed": false
   }
  },
  {
   "attachments": {},
   "cell_type": "markdown",
   "metadata": {},
   "source": [
    "### 5. Create a class called Temperature that has attribute celsius (a temperature in degrees Celsius). Add methods to_fahrenheit and to_kelvin that convert the temperature to degrees Fahrenheit and Kelvin, respectively."
   ]
  },
  {
   "cell_type": "code",
   "execution_count": 18,
   "metadata": {},
   "outputs": [],
   "source": [
    "class Temperature:\n",
    "    def __init__(self, celsius):\n",
    "        self.celsius = celsius\n",
    "\n",
    "    def to_fahrenheit(self):\n",
    "        return (self.celsius * 9/5) + 32\n",
    "\n",
    "    def to_kelvin(self):\n",
    "        return self.celsius + 273.15"
   ]
  },
  {
   "cell_type": "markdown",
   "source": [
    "Here, we define a class called Temperature with celsius as an attribute. The __init__ method is called when an instance of the class is created and sets the initial value of the attribute.\n",
    "\n",
    "The to_fahrenheit method converts the temperature from degrees Celsius to degrees Fahrenheit using the formula (C * 9/5) + 32, where C is the temperature in degrees Celsius. The to_kelvin method converts the temperature from degrees Celsius to Kelvin using the formula C + 273.15."
   ],
   "metadata": {
    "collapsed": false
   }
  },
  {
   "cell_type": "code",
   "execution_count": 20,
   "outputs": [
    {
     "name": "stdout",
     "output_type": "stream",
     "text": [
      "59.0\n",
      "288.15\n"
     ]
    }
   ],
   "source": [
    "temp = Temperature(15)\n",
    "print(temp.to_fahrenheit())\n",
    "print(temp.to_kelvin())"
   ],
   "metadata": {
    "collapsed": false
   }
  },
  {
   "attachments": {},
   "cell_type": "markdown",
   "metadata": {},
   "source": [
    "### 6. Create a class called Book that has attributes title, author, and publication_year. Add a method get_age that calculates how many years ago the book was published."
   ]
  },
  {
   "cell_type": "code",
   "execution_count": 21,
   "outputs": [],
   "source": [
    "import datetime"
   ],
   "metadata": {
    "collapsed": false
   }
  },
  {
   "cell_type": "code",
   "execution_count": 22,
   "metadata": {},
   "outputs": [],
   "source": [
    "class Book:\n",
    "    def __init__(self, title, author, publication_year):\n",
    "        self.title = title\n",
    "        self.author = author\n",
    "        self.publication_year = publication_year\n",
    "\n",
    "    def get_age(self):\n",
    "        current_year = datetime.datetime.now().year\n",
    "        age = current_year - self.publication_year\n",
    "        return age"
   ]
  },
  {
   "cell_type": "markdown",
   "source": [
    "Here, we define a class called Book with title, author, and publication_year as attributes. The __init__ method is called when an instance of the class is created and sets the initial values of the attributes.\n",
    "\n",
    "The get_age method calculates how many years ago the book was published by subtracting the publication_year attribute from the current year. The current year is obtained using the datetime module's datetime object and calling its now() method to get the current date and time, and then accessing its year attribute."
   ],
   "metadata": {
    "collapsed": false
   }
  },
  {
   "cell_type": "code",
   "execution_count": 24,
   "outputs": [
    {
     "name": "stdout",
     "output_type": "stream",
     "text": [
      "210\n"
     ]
    }
   ],
   "source": [
    "my_book = Book(\"Pride and Prejudice\", \"Jane Austen\", 1813)\n",
    "print(my_book.get_age())"
   ],
   "metadata": {
    "collapsed": false
   }
  },
  {
   "attachments": {},
   "cell_type": "markdown",
   "metadata": {},
   "source": [
    "7. Create a class called Rectangle that has attributes width and height. Add methods __str__ and __repr__ that return a string representation of the rectangle object."
   ]
  },
  {
   "cell_type": "code",
   "execution_count": 25,
   "metadata": {},
   "outputs": [],
   "source": [
    "class Rectangle:\n",
    "    def __init__(self, width, height):\n",
    "        self.width = width\n",
    "        self.height = height\n",
    "\n",
    "    def __str__(self):\n",
    "        return f\"Rectangle with width={self.width} and height={self.height}\"\n",
    "\n",
    "    def __repr__(self):\n",
    "        return f\"Rectangle({self.width}, {self.height})\""
   ]
  },
  {
   "cell_type": "markdown",
   "source": [
    "The __str__ method returns a string representation of the rectangle object. It uses an f-string to format a string that includes the values of the width and height attributes.\n",
    "\n",
    "The __repr__ method returns a string that represents a printable version of the rectangle object. It uses an f-string to format a string that includes the constructor call with the values of the width and height attributes."
   ],
   "metadata": {
    "collapsed": false
   }
  },
  {
   "cell_type": "code",
   "execution_count": 26,
   "outputs": [
    {
     "name": "stdout",
     "output_type": "stream",
     "text": [
      "Rectangle with width=4 and height=5\n",
      "Rectangle(4, 5)\n"
     ]
    }
   ],
   "source": [
    "my_rect = Rectangle(4, 5)\n",
    "print(str(my_rect))\n",
    "print(repr(my_rect))"
   ],
   "metadata": {
    "collapsed": false
   }
  }
 ],
 "metadata": {
  "language_info": {
   "name": "python"
  },
  "orig_nbformat": 4
 },
 "nbformat": 4,
 "nbformat_minor": 2
}
