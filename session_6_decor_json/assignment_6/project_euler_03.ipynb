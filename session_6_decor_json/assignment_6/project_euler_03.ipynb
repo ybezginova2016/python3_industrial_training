{
 "cells": [
  {
   "attachments": {},
   "cell_type": "markdown",
   "metadata": {},
   "source": [
    "### 1. In the United Kingdom the currency is made up of pound (£) and pence (p). There are eight coins in general circulation:\n",
    "\n",
    "    1p, 2p, 5p, 10p, 20p, 50p, £1 (100p), and £2 (200p).\n",
    "\n",
    "It is possible to make £2 in the following way:\n",
    "\n",
    "    1×£1 + 1×50p + 2×20p + 1×5p + 1×2p + 3×1p\n",
    "\n",
    "#### How many different ways can £2 be made using any number of coins?\n",
    "\n",
    "This problem is a classic example of the coin change problem, which is a type of dynamic programming problem. One approach to solving it is to use a bottom-up dynamic programming algorithm to build up a table of the number of ways to make each amount of money, using each type of coin\n"
   ]
  },
  {
   "cell_type": "code",
   "execution_count": 1,
   "metadata": {},
   "outputs": [],
   "source": [
    "def count_coin_combinations(amount):\n",
    "    coins = [1, 2, 5, 10, 20, 50, 100, 200]\n",
    "    table = [0] * (amount + 1)\n",
    "    table[0] = 1\n",
    "\n",
    "    for coin in coins:\n",
    "        for i in range(coin, amount + 1):\n",
    "            table[i] += table[i - coin]\n",
    "\n",
    "    return table[amount]"
   ]
  },
  {
   "cell_type": "markdown",
   "source": [
    "* Here, we define a function called count_coin_combinations that takes an amount parameter representing the target amount of money (£2 in this case), and returns the number of different ways that amount can be made using the eight types of coins in general circulation in the UK. The function uses a list called coins to represent the values of the different types of coins.\n",
    "\n",
    "* We initialize a list called table with zeros, where each element in the list represents the number of ways to make that amount of money using the available coins. We set the first element of the table list to 1, since there is exactly one way to make 0 pence (using no coins).\n",
    "\n",
    "* We then iterate over the coins list, and for each coin value, we iterate over all possible amounts of money from that coin value up to the target amount. For each amount, we add the number of ways to make the amount minus the coin value (i.e. the number of ways to make the remaining amount using the available coins) to the number of ways to make the current amount. This builds up the table list with the total number of ways to make each amount of money.\n",
    "\n",
    "* Finally, we return the value of the last element in the table list, which represents the number of ways to make the target amount of money (£2 in this case) using the available coins."
   ],
   "metadata": {
    "collapsed": false
   }
  },
  {
   "cell_type": "code",
   "execution_count": 2,
   "outputs": [
    {
     "name": "stdout",
     "output_type": "stream",
     "text": [
      "73682\n"
     ]
    }
   ],
   "source": [
    "print(count_coin_combinations(200))   # Output: 73682"
   ],
   "metadata": {
    "collapsed": false
   }
  },
  {
   "attachments": {},
   "cell_type": "markdown",
   "metadata": {},
   "source": [
    "### 2. We shall say that an n-digit number is pandigital if it makes use of all the digits 1 to n exactly once; for example, the 5-digit number, 15234, is 1 through 5 pandigital.\n",
    "\n",
    "The product 7254 is unusual, as the identity, 39 × 186 = 7254, containing multiplicand, multiplier, and product is 1 through 9 pandigital.\n",
    "\n",
    "Find the sum of all products whose multiplicand/multiplier/product identity can be written as a 1 through 9 pandigital.\n",
    "HINT: Some products can be obtained in more than one way so be sure to only include it once in your sum.\n",
    "\n",
    "#### A pandigital number is an integer that contains all the digits from 1 to n exactly once, where n is the number of digits in the number. For example, the number 15234 is a 1 through 5 pandigital number because it contains all the digits from 1 to 5 exactly once. Similarly, the number 943721856 is a 1 through 9 pandigital number. Pandigital numbers are a common subject in recreational mathematics and puzzles."
   ]
  },
  {
   "cell_type": "code",
   "execution_count": 7,
   "outputs": [
    {
     "name": "stdout",
     "output_type": "stream",
     "text": [
      "1994168506\n"
     ]
    }
   ],
   "source": [
    "def is_pandigital(n):\n",
    "    digits = set(str(n))\n",
    "    return len(digits) == 9 and '0' not in digits\n",
    "\n",
    "products = set()\n",
    "\n",
    "for multiplicand in range(1, 100):\n",
    "    for multiplier in range(multiplicand, 10000):\n",
    "        product = multiplicand * multiplier\n",
    "        if is_pandigital(str(multiplicand) + str(multiplier) + str(product)):\n",
    "            products.add(product)\n",
    "\n",
    "print(sum(products))"
   ],
   "metadata": {
    "collapsed": false
   }
  },
  {
   "cell_type": "markdown",
   "source": [
    "**The output of the code 1994168506 is the sum of all products whose multiplicand/multiplier/product identity can be written as a 1 through 9 pandigital number. This means that if we take each product that satisfies this condition and add them together, we get the result 1994168506.**\n",
    "\n",
    "Результат выполнения кода 1994168506 является суммой всех произведений, чья идентичность множителя/множимого/произведения может быть записана в виде пандигитального числа 1 до 9. Это означает, что если мы возьмем каждое произведение, которое удовлетворяет этому условию, и сложим их вместе, мы получим результат 1994168506."
   ],
   "metadata": {
    "collapsed": false
   }
  },
  {
   "attachments": {},
   "cell_type": "markdown",
   "metadata": {},
   "source": [
    "### 3. The fraction 49/98 is a curious fraction, as an inexperienced mathematician in attempting to simplify it may incorrectly believe that 49/98 = 4/8, which is correct, is obtained by cancelling the 9s.\n",
    "\n",
    "We shall consider fractions like, 30/50 = 3/5, to be trivial examples.\n",
    "\n",
    "There are exactly four non-trivial examples of this type of fraction, less than one in value, and containing two digits in the numerator and denominator.\n",
    "\n",
    "If the product of these four fractions is given in its lowest common terms, find the value of the denominator.\n"
   ]
  },
  {
   "cell_type": "code",
   "execution_count": 8,
   "metadata": {},
   "outputs": [
    {
     "name": "stdout",
     "output_type": "stream",
     "text": [
      "1175952237465600\n"
     ]
    }
   ],
   "source": [
    "from fractions import Fraction\n",
    "\n",
    "curious_fractions = []\n",
    "\n",
    "for numerator in range(10, 100):\n",
    "    for denominator in range(numerator + 1, 100):\n",
    "        num_digits = str(numerator)\n",
    "        den_digits = str(denominator)\n",
    "        for digit in num_digits:\n",
    "            if digit in den_digits:\n",
    "                new_num = int(num_digits.replace(digit, '', 1))\n",
    "                new_den = int(den_digits.replace(digit, '', 1))\n",
    "                if new_den != 0 and new_num / new_den == numerator / denominator:\n",
    "                    curious_fractions.append(Fraction(numerator, denominator))\n",
    "\n",
    "product = 1\n",
    "for fraction in curious_fractions:\n",
    "    product *= fraction\n",
    "\n",
    "print(product.denominator)"
   ]
  },
  {
   "cell_type": "markdown",
   "source": [
    "Here, we first import the Fraction class from the fractions module to represent fractions as objects.\n",
    "\n",
    "We then define an empty list called curious_fractions to store the fractions that can be simplified by cancelling a digit.\n",
    "\n",
    "We then iterate over all two-digit numerators and denominators, starting from 10 since 1-digit numerators and denominators are considered trivial examples. We only consider denominators greater than the numerator to avoid duplicates.\n",
    "\n",
    "For each numerator and denominator, we convert them to strings to check if they have a common digit. If they do, we create new numerators and denominators by removing that digit from each, and check if the new fraction is equivalent to the original fraction. If it is, we append the original fraction as a Fraction object to the curious_fractions list.\n",
    "\n",
    "Finally, we multiply all the curious fractions together to get their product, and return the denominator of the product, which is the answer to the problem.\n",
    "\n",
    "Note that we represent fractions using the Fraction class to avoid precision issues with floating-point arithmetic, which can occur when dividing integers directly.\n",
    "\n",
    "*We can solve this problem without using the Fraction class from the fractions module. Instead, we can find the greatest common divisor (GCD) of the numerator and denominator of each fraction and simplify the fraction by dividing both the numerator and denominator by their GCD.*"
   ],
   "metadata": {
    "collapsed": false
   }
  },
  {
   "cell_type": "code",
   "execution_count": 9,
   "outputs": [
    {
     "name": "stdout",
     "output_type": "stream",
     "text": [
      "200\n"
     ]
    }
   ],
   "source": [
    "def gcd(a, b):\n",
    "    \"\"\"Calculate the greatest common divisor of a and b using Euclid's algorithm.\"\"\"\n",
    "    while b != 0:\n",
    "        a, b = b, a % b\n",
    "    return a\n",
    "\n",
    "curious_fractions = []\n",
    "\n",
    "for numerator in range(10, 100):\n",
    "    for denominator in range(numerator + 1, 100):\n",
    "        num_digits = str(numerator)\n",
    "        den_digits = str(denominator)\n",
    "        for digit in num_digits:\n",
    "            if digit in den_digits:\n",
    "                new_num = int(num_digits.replace(digit, '', 1))\n",
    "                new_den = int(den_digits.replace(digit, '', 1))\n",
    "                if new_den != 0 and new_num / new_den == numerator / denominator:\n",
    "                    common_digit = int(digit)\n",
    "                    num_gcd = gcd(numerator, common_digit)\n",
    "                    den_gcd = gcd(denominator, common_digit)\n",
    "                    simplified_num = numerator // num_gcd\n",
    "                    simplified_den = denominator // den_gcd\n",
    "                    if simplified_den != 0:\n",
    "                        curious_fractions.append((simplified_num, simplified_den))\n",
    "\n",
    "numerator_product = 1\n",
    "denominator_product = 1\n",
    "for fraction in curious_fractions:\n",
    "    numerator_product *= fraction[0]\n",
    "    denominator_product *= fraction[1]\n",
    "\n",
    "common_gcd = gcd(numerator_product, denominator_product)\n",
    "answer = denominator_product // common_gcd\n",
    "\n",
    "print(answer)"
   ],
   "metadata": {
    "collapsed": false
   }
  },
  {
   "cell_type": "markdown",
   "source": [
    "In this implementation, we define a function called gcd that uses Euclid's algorithm to calculate the greatest common divisor of two numbers. We then iterate over all two-digit numerators and denominators, and check if they can be simplified by cancelling a digit in the same way as before. If a fraction can be simplified, we calculate the GCD of the numerator and common digit, and the GCD of the denominator and common digit, and simplify the fraction by dividing both the numerator and denominator by their respective GCDs.\n",
    "\n",
    "We then multiply all the simplified numerators together to get the numerator product, and all the simplified denominators together to get the denominator product. We find the GCD of the numerator and denominator products using the gcd function, and divide the denominator product by the GCD to get the lowest common terms denominator, which is the answer to the problem.\n",
    "\n",
    "Note that this approach uses integer division (//) to ensure that the numerator and denominator products are integers, since the use of floating-point arithmetic can introduce precision errors."
   ],
   "metadata": {
    "collapsed": false
   }
  },
  {
   "attachments": {},
   "cell_type": "markdown",
   "metadata": {},
   "source": [
    "### 4. 145 is a curious number, as 1! + 4! + 5! = 1 + 24 + 120 = 145.\n",
    "\n",
    "Find the sum of all numbers which are equal to the sum of the factorial of their digits.\n",
    "\n",
    "Note: As 1! = 1 and 2! = 2 are not sums they are not included.\n"
   ]
  },
  {
   "cell_type": "code",
   "execution_count": 10,
   "metadata": {},
   "outputs": [
    {
     "name": "stdout",
     "output_type": "stream",
     "text": [
      "40730\n"
     ]
    }
   ],
   "source": [
    "def factorial(n):\n",
    "    \"\"\"Calculate the factorial of n using a loop.\"\"\"\n",
    "    result = 1\n",
    "    for i in range(1, n+1):\n",
    "        result *= i\n",
    "    return result\n",
    "\n",
    "curious_numbers = []\n",
    "\n",
    "for number in range(3, 9_999_999):\n",
    "    digit_factorial_sum = sum(factorial(int(digit)) for digit in str(number))\n",
    "    if digit_factorial_sum == number:\n",
    "        curious_numbers.append(number)\n",
    "\n",
    "print(sum(curious_numbers))"
   ]
  },
  {
   "cell_type": "markdown",
   "source": [
    "In this implementation, we define a function called factorial that calculates the factorial of a number using a loop. We then iterate over all numbers from 3 to 9,999,999 and check if the sum of the factorials of their digits is equal to the number itself, and add the number to the curious_numbers list if it is.\n",
    "\n",
    "We then sum all the curious numbers together and print the result.\n",
    "\n",
    "Note that this approach may be slower than using the built-in factorial function, especially for large numbers, but it allows us to solve the problem without importing any external modules."
   ],
   "metadata": {
    "collapsed": false
   }
  },
  {
   "attachments": {},
   "cell_type": "markdown",
   "metadata": {},
   "source": [
    "### 5. The number, 197, is called a circular prime because all rotations of the digits: 197, 971, and 719, are themselves prime.\n",
    "\n",
    "There are thirteen such primes below 100: 2, 3, 5, 7, 11, 13, 17, 31, 37, 71, 73, 79, and 97.\n",
    "\n",
    "How many circular primes are there below one million?"
   ]
  },
  {
   "cell_type": "code",
   "execution_count": 11,
   "metadata": {},
   "outputs": [
    {
     "name": "stdout",
     "output_type": "stream",
     "text": [
      "55\n"
     ]
    }
   ],
   "source": [
    "def is_prime(n):\n",
    "    \"\"\"Return True if n is prime, False otherwise.\"\"\"\n",
    "    if n < 2:\n",
    "        return False\n",
    "    for i in range(2, int(n**0.5) + 1):\n",
    "        if n % i == 0:\n",
    "            return False\n",
    "    return True\n",
    "\n",
    "circular_primes = set()\n",
    "\n",
    "for number in range(2, 1_000_000):\n",
    "    if all(is_prime(int(str(number)[i:] + str(number)[:i])) for i in range(len(str(number)))):\n",
    "        circular_primes.add(number)\n",
    "\n",
    "print(len(circular_primes))"
   ]
  },
  {
   "cell_type": "markdown",
   "source": [
    "Here, we define a function called is_prime that checks if a number is prime using a loop that iterates over all integers from 2 to the square root of the number. We then define an empty set called circular_primes to store the circular primes that we find.\n",
    "\n",
    "We then iterate over all numbers from 2 to 999,999 (since 1-digit numbers are considered circular primes by definition), and check if all rotations of the number are prime. We add the number to the circular_primes set if all rotations are prime.\n",
    "\n",
    "Finally, we print the number of circular primes that we found by taking the length of the circular_primes set.\n",
    "\n",
    "Note that we use a set instead of a list to store the circular primes, since sets are more efficient for membership testing and do not allow duplicates."
   ],
   "metadata": {
    "collapsed": false
   }
  }
 ],
 "metadata": {
  "language_info": {
   "name": "python"
  },
  "orig_nbformat": 4
 },
 "nbformat": 4,
 "nbformat_minor": 2
}
